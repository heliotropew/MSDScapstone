{
 "cells": [
  {
   "cell_type": "code",
   "execution_count": 1,
   "id": "c77736fe",
   "metadata": {
    "ExecuteTime": {
     "end_time": "2023-11-29T09:59:25.922027Z",
     "start_time": "2023-11-29T09:59:21.277309Z"
    }
   },
   "outputs": [],
   "source": [
    "import pandas as pd\n",
    "import matplotlib.pyplot as plt\n",
    "from pandas import read_excel\n",
    "import numpy as np\n",
    "from pandas import DataFrame\n",
    "from pandas import concat\n",
    "from matplotlib.font_manager import FontProperties  # 字体管理器\n",
    "\n",
    "import pandas as pd\n",
    "import jieba\n",
    "from snownlp import SnowNLP\n",
    "\n",
    "\n",
    "from numpy import concatenate\n",
    "from math import sqrt\n",
    "from matplotlib.font_manager import FontProperties  # 字体管理器\n",
    "import os\n",
    "os.environ[\"PATH\"] += os.pathsep + 'C:/Program Files (x86)/Graphviz2.38/bin/'\n",
    "\n",
    "\n"
   ]
  },
  {
   "cell_type": "code",
   "execution_count": 2,
   "id": "cf3200f8",
   "metadata": {
    "ExecuteTime": {
     "end_time": "2023-11-29T09:59:25.937921Z",
     "start_time": "2023-11-29T09:59:25.925953Z"
    }
   },
   "outputs": [],
   "source": [
    "# 设置汉字格式\n",
    "font = FontProperties(fname=r\"c:\\windows\\fonts\\simsun.ttc\", size=15)\n",
    "def str_to_float(s):\n",
    "    s=s[:-1]\n",
    "    s_float=float(s)\n",
    "    return s_float"
   ]
  },
  {
   "cell_type": "markdown",
   "id": "53fd6a31",
   "metadata": {},
   "source": [
    "# 导入并处理数据"
   ]
  },
  {
   "cell_type": "code",
   "execution_count": 3,
   "id": "74c46a56",
   "metadata": {
    "ExecuteTime": {
     "end_time": "2023-11-29T09:59:27.353319Z",
     "start_time": "2023-11-29T09:59:25.944953Z"
    }
   },
   "outputs": [],
   "source": [
    "file_path = 'News Headlines.xlsx'\n",
    "\n",
    "df = pd.read_excel(file_path)\n",
    "df.columns = df.iloc[0]\n",
    "df = df.drop(index=0)\n"
   ]
  },
  {
   "cell_type": "code",
   "execution_count": 4,
   "id": "43183fd3",
   "metadata": {
    "ExecuteTime": {
     "end_time": "2023-11-29T09:59:27.908762Z",
     "start_time": "2023-11-29T09:59:27.360043Z"
    }
   },
   "outputs": [],
   "source": [
    "file1 = 'data_RF.xlsx'\n",
    "file2 = 'data_CountryGarden.xlsx' \n",
    "file3 = 'data_Evergrande.xlsx'\n",
    "file4 = 'data_GiantLeap.xlsx'\n",
    "\n",
    "df_RF = pd.read_excel(file1)\n",
    "df_CountryGarden = pd.read_excel(file2)  \n",
    "df_Evergrande = pd.read_excel(file3)\n",
    "df_GiantLeap = pd.read_excel(file4)"
   ]
  },
  {
   "cell_type": "code",
   "execution_count": 5,
   "id": "2fab3460",
   "metadata": {
    "ExecuteTime": {
     "end_time": "2023-11-29T09:59:27.938560Z",
     "start_time": "2023-11-29T09:59:27.910628Z"
    }
   },
   "outputs": [],
   "source": [
    "df_RF['Date'] = pd.to_datetime(df_RF['Spread Date']).dt.date \n",
    "df_CountryGarden['Date'] = pd.to_datetime(df_CountryGarden['Spread Date']).dt.date \n",
    "df_Evergrande['Date'] = pd.to_datetime(df_Evergrande['Spread Date']).dt.date \n",
    "df_GiantLeap['Date'] = pd.to_datetime(df_GiantLeap['Spread Date']).dt.date \n",
    "\n",
    "df_RF = df_RF.drop(columns='Spread Date') \n",
    "df_CountryGarden = df_CountryGarden.drop(columns='Spread Date') \n",
    "df_GiantLeap = df_GiantLeap.drop(columns='Spread Date') \n",
    "df_Evergrande= df_Evergrande.drop(columns='Spread Date') \n",
    "\n",
    "df_RF = df_RF.set_index('Date') \n",
    "df_CountryGarden = df_CountryGarden.set_index('Date')  \n",
    "df_GiantLeap = df_GiantLeap.set_index('Date')  \n",
    "df_Evergrande = df_Evergrande.set_index('Date')  \n",
    "\n"
   ]
  },
  {
   "cell_type": "code",
   "execution_count": 6,
   "id": "b7d3fbc7",
   "metadata": {
    "ExecuteTime": {
     "end_time": "2023-11-29T09:59:27.970537Z",
     "start_time": "2023-11-29T09:59:27.940545Z"
    }
   },
   "outputs": [
    {
     "data": {
      "text/html": [
       "<div>\n",
       "<style scoped>\n",
       "    .dataframe tbody tr th:only-of-type {\n",
       "        vertical-align: middle;\n",
       "    }\n",
       "\n",
       "    .dataframe tbody tr th {\n",
       "        vertical-align: top;\n",
       "    }\n",
       "\n",
       "    .dataframe thead th {\n",
       "        text-align: right;\n",
       "    }\n",
       "</style>\n",
       "<table border=\"1\" class=\"dataframe\">\n",
       "  <thead>\n",
       "    <tr style=\"text-align: right;\">\n",
       "      <th></th>\n",
       "      <th>Credit Spread</th>\n",
       "      <th>Excess Spread</th>\n",
       "      <th>CFETS Valuation</th>\n",
       "    </tr>\n",
       "    <tr>\n",
       "      <th>Date</th>\n",
       "      <th></th>\n",
       "      <th></th>\n",
       "      <th></th>\n",
       "    </tr>\n",
       "  </thead>\n",
       "  <tbody>\n",
       "    <tr>\n",
       "      <th>2019-06-18</th>\n",
       "      <td>214.360</td>\n",
       "      <td>126.230</td>\n",
       "      <td>5.27300</td>\n",
       "    </tr>\n",
       "    <tr>\n",
       "      <th>2019-06-19</th>\n",
       "      <td>216.375</td>\n",
       "      <td>126.760</td>\n",
       "      <td>5.29695</td>\n",
       "    </tr>\n",
       "    <tr>\n",
       "      <th>2019-06-20</th>\n",
       "      <td>218.975</td>\n",
       "      <td>128.990</td>\n",
       "      <td>5.26535</td>\n",
       "    </tr>\n",
       "    <tr>\n",
       "      <th>2019-06-21</th>\n",
       "      <td>216.930</td>\n",
       "      <td>128.095</td>\n",
       "      <td>5.27720</td>\n",
       "    </tr>\n",
       "    <tr>\n",
       "      <th>2019-06-24</th>\n",
       "      <td>215.075</td>\n",
       "      <td>128.400</td>\n",
       "      <td>5.27335</td>\n",
       "    </tr>\n",
       "    <tr>\n",
       "      <th>...</th>\n",
       "      <td>...</td>\n",
       "      <td>...</td>\n",
       "      <td>...</td>\n",
       "    </tr>\n",
       "    <tr>\n",
       "      <th>2023-08-24</th>\n",
       "      <td>5640.650</td>\n",
       "      <td>NaN</td>\n",
       "      <td>58.72440</td>\n",
       "    </tr>\n",
       "    <tr>\n",
       "      <th>2023-08-25</th>\n",
       "      <td>5645.780</td>\n",
       "      <td>NaN</td>\n",
       "      <td>58.79600</td>\n",
       "    </tr>\n",
       "    <tr>\n",
       "      <th>2023-08-28</th>\n",
       "      <td>5665.500</td>\n",
       "      <td>NaN</td>\n",
       "      <td>59.01210</td>\n",
       "    </tr>\n",
       "    <tr>\n",
       "      <th>2023-08-29</th>\n",
       "      <td>5670.840</td>\n",
       "      <td>NaN</td>\n",
       "      <td>59.08470</td>\n",
       "    </tr>\n",
       "    <tr>\n",
       "      <th>2023-08-30</th>\n",
       "      <td>5680.210</td>\n",
       "      <td>NaN</td>\n",
       "      <td>59.15750</td>\n",
       "    </tr>\n",
       "  </tbody>\n",
       "</table>\n",
       "<p>1046 rows × 3 columns</p>\n",
       "</div>"
      ],
      "text/plain": [
       "            Credit Spread  Excess Spread  CFETS Valuation\n",
       "Date                                                     \n",
       "2019-06-18        214.360        126.230          5.27300\n",
       "2019-06-19        216.375        126.760          5.29695\n",
       "2019-06-20        218.975        128.990          5.26535\n",
       "2019-06-21        216.930        128.095          5.27720\n",
       "2019-06-24        215.075        128.400          5.27335\n",
       "...                   ...            ...              ...\n",
       "2023-08-24       5640.650            NaN         58.72440\n",
       "2023-08-25       5645.780            NaN         58.79600\n",
       "2023-08-28       5665.500            NaN         59.01210\n",
       "2023-08-29       5670.840            NaN         59.08470\n",
       "2023-08-30       5680.210            NaN         59.15750\n",
       "\n",
       "[1046 rows x 3 columns]"
      ]
     },
     "execution_count": 6,
     "metadata": {},
     "output_type": "execute_result"
    }
   ],
   "source": [
    "df_RF"
   ]
  },
  {
   "cell_type": "markdown",
   "id": "720f6d85",
   "metadata": {},
   "source": [
    "# 计算sentiment value"
   ]
  },
  {
   "cell_type": "code",
   "execution_count": 7,
   "id": "867b37b8",
   "metadata": {
    "ExecuteTime": {
     "end_time": "2023-11-29T10:00:19.351641Z",
     "start_time": "2023-11-29T09:59:27.972460Z"
    }
   },
   "outputs": [],
   "source": [
    "titles = df['标题']\n",
    "sentiments = []\n",
    "for title in titles:\n",
    "    s = SnowNLP(title)  \n",
    "    sentiments.append(s.sentiments)\n",
    "\n",
    "df['Sentiment Value'] = sentiments"
   ]
  },
  {
   "cell_type": "code",
   "execution_count": 8,
   "id": "01116a2d",
   "metadata": {
    "ExecuteTime": {
     "end_time": "2023-11-29T10:00:19.383402Z",
     "start_time": "2023-11-29T10:00:19.354479Z"
    }
   },
   "outputs": [],
   "source": [
    "# 转换时间格式  \n",
    "df['Date'] = pd.to_datetime(df['新闻发布时间']).dt.date "
   ]
  },
  {
   "cell_type": "markdown",
   "id": "472afb6d",
   "metadata": {
    "ExecuteTime": {
     "end_time": "2023-11-03T06:23:56.637704Z",
     "start_time": "2023-11-03T06:23:56.629757Z"
    }
   },
   "source": [
    "# 筛选出恒大的相关"
   ]
  },
  {
   "cell_type": "code",
   "execution_count": 9,
   "id": "d4c0a99a",
   "metadata": {
    "ExecuteTime": {
     "end_time": "2023-11-29T10:00:19.413331Z",
     "start_time": "2023-11-29T10:00:19.388388Z"
    }
   },
   "outputs": [],
   "source": [
    "# 筛选包含\"恒大\"的行\n",
    "df_news_Evergrande = df[df['关联公司'].str.contains('恒大')]\n",
    "\n",
    "# 对日期进行分组,sentiment取平均   \n",
    "df_news_Evergrande= df_news_Evergrande.groupby('Date', as_index=False)['Sentiment Value'].mean()\n",
    "\n",
    "df_news_Evergrande= df_news_Evergrande.set_index('Date')"
   ]
  },
  {
   "cell_type": "code",
   "execution_count": 10,
   "id": "4f885422",
   "metadata": {
    "ExecuteTime": {
     "end_time": "2023-11-29T10:00:19.428313Z",
     "start_time": "2023-11-29T10:00:19.415317Z"
    }
   },
   "outputs": [],
   "source": [
    "# 筛选包含\"富力\"的行\n",
    "df_news_RF= df[df['关联公司'].str.contains('富力')]\n",
    "\n",
    "# 对日期进行分组,sentiment取平均   \n",
    "df_news_RF = df_news_RF.groupby('Date', as_index=False)['Sentiment Value'].mean()\n",
    "df_news_RF = df_news_RF.set_index('Date')"
   ]
  },
  {
   "cell_type": "code",
   "execution_count": 11,
   "id": "096ab004",
   "metadata": {
    "ExecuteTime": {
     "end_time": "2023-11-29T10:00:19.459220Z",
     "start_time": "2023-11-29T10:00:19.430276Z"
    }
   },
   "outputs": [],
   "source": [
    "# 筛选包含“碧桂园”或\"腾越\"的行\n",
    "df_news_CountryGarden= df[df['关联公司'].str.contains('碧桂园'or '腾越')]\n",
    "\n",
    "# 对日期进行分组,sentiment取平均   \n",
    "df_news_CountryGarden = df_news_CountryGarden.groupby('Date', as_index=False)['Sentiment Value'].mean()\n",
    "df_news_CountryGarden = df_news_CountryGarden.set_index('Date')"
   ]
  },
  {
   "cell_type": "markdown",
   "id": "ef819d29",
   "metadata": {},
   "source": [
    "# 变更表格格式为“日期”及“sentiment”两列"
   ]
  },
  {
   "cell_type": "code",
   "execution_count": 12,
   "id": "68b85056",
   "metadata": {
    "ExecuteTime": {
     "end_time": "2023-11-29T10:00:19.490127Z",
     "start_time": "2023-11-29T10:00:19.464187Z"
    }
   },
   "outputs": [
    {
     "data": {
      "text/html": [
       "<div>\n",
       "<style scoped>\n",
       "    .dataframe tbody tr th:only-of-type {\n",
       "        vertical-align: middle;\n",
       "    }\n",
       "\n",
       "    .dataframe tbody tr th {\n",
       "        vertical-align: top;\n",
       "    }\n",
       "\n",
       "    .dataframe thead th {\n",
       "        text-align: right;\n",
       "    }\n",
       "</style>\n",
       "<table border=\"1\" class=\"dataframe\">\n",
       "  <thead>\n",
       "    <tr style=\"text-align: right;\">\n",
       "      <th></th>\n",
       "      <th>Sentiment Value</th>\n",
       "    </tr>\n",
       "    <tr>\n",
       "      <th>Date</th>\n",
       "      <th></th>\n",
       "    </tr>\n",
       "  </thead>\n",
       "  <tbody>\n",
       "    <tr>\n",
       "      <th>2018-10-01</th>\n",
       "      <td>0.960081</td>\n",
       "    </tr>\n",
       "    <tr>\n",
       "      <th>2018-10-05</th>\n",
       "      <td>0.962679</td>\n",
       "    </tr>\n",
       "    <tr>\n",
       "      <th>2018-10-08</th>\n",
       "      <td>0.020003</td>\n",
       "    </tr>\n",
       "    <tr>\n",
       "      <th>2018-10-12</th>\n",
       "      <td>0.912739</td>\n",
       "    </tr>\n",
       "    <tr>\n",
       "      <th>2018-10-23</th>\n",
       "      <td>0.987970</td>\n",
       "    </tr>\n",
       "    <tr>\n",
       "      <th>...</th>\n",
       "      <td>...</td>\n",
       "    </tr>\n",
       "    <tr>\n",
       "      <th>2023-08-26</th>\n",
       "      <td>0.683534</td>\n",
       "    </tr>\n",
       "    <tr>\n",
       "      <th>2023-08-27</th>\n",
       "      <td>0.477571</td>\n",
       "    </tr>\n",
       "    <tr>\n",
       "      <th>2023-08-28</th>\n",
       "      <td>0.599453</td>\n",
       "    </tr>\n",
       "    <tr>\n",
       "      <th>2023-08-29</th>\n",
       "      <td>0.861436</td>\n",
       "    </tr>\n",
       "    <tr>\n",
       "      <th>2023-08-30</th>\n",
       "      <td>0.698019</td>\n",
       "    </tr>\n",
       "  </tbody>\n",
       "</table>\n",
       "<p>727 rows × 1 columns</p>\n",
       "</div>"
      ],
      "text/plain": [
       "            Sentiment Value\n",
       "Date                       \n",
       "2018-10-01         0.960081\n",
       "2018-10-05         0.962679\n",
       "2018-10-08         0.020003\n",
       "2018-10-12         0.912739\n",
       "2018-10-23         0.987970\n",
       "...                     ...\n",
       "2023-08-26         0.683534\n",
       "2023-08-27         0.477571\n",
       "2023-08-28         0.599453\n",
       "2023-08-29         0.861436\n",
       "2023-08-30         0.698019\n",
       "\n",
       "[727 rows x 1 columns]"
      ]
     },
     "execution_count": 12,
     "metadata": {},
     "output_type": "execute_result"
    }
   ],
   "source": [
    "df_news_Evergrande"
   ]
  },
  {
   "cell_type": "code",
   "execution_count": 13,
   "id": "999d5c44",
   "metadata": {
    "ExecuteTime": {
     "end_time": "2023-11-29T10:00:19.520038Z",
     "start_time": "2023-11-29T10:00:19.496100Z"
    }
   },
   "outputs": [
    {
     "data": {
      "text/html": [
       "<div>\n",
       "<style scoped>\n",
       "    .dataframe tbody tr th:only-of-type {\n",
       "        vertical-align: middle;\n",
       "    }\n",
       "\n",
       "    .dataframe tbody tr th {\n",
       "        vertical-align: top;\n",
       "    }\n",
       "\n",
       "    .dataframe thead th {\n",
       "        text-align: right;\n",
       "    }\n",
       "</style>\n",
       "<table border=\"1\" class=\"dataframe\">\n",
       "  <thead>\n",
       "    <tr style=\"text-align: right;\">\n",
       "      <th></th>\n",
       "      <th>Sentiment Value</th>\n",
       "    </tr>\n",
       "    <tr>\n",
       "      <th>Date</th>\n",
       "      <th></th>\n",
       "    </tr>\n",
       "  </thead>\n",
       "  <tbody>\n",
       "    <tr>\n",
       "      <th>2018-09-17</th>\n",
       "      <td>0.974873</td>\n",
       "    </tr>\n",
       "    <tr>\n",
       "      <th>2018-09-18</th>\n",
       "      <td>0.786056</td>\n",
       "    </tr>\n",
       "    <tr>\n",
       "      <th>2018-09-28</th>\n",
       "      <td>0.468201</td>\n",
       "    </tr>\n",
       "    <tr>\n",
       "      <th>2018-10-24</th>\n",
       "      <td>0.289513</td>\n",
       "    </tr>\n",
       "    <tr>\n",
       "      <th>2018-11-05</th>\n",
       "      <td>0.371126</td>\n",
       "    </tr>\n",
       "    <tr>\n",
       "      <th>...</th>\n",
       "      <td>...</td>\n",
       "    </tr>\n",
       "    <tr>\n",
       "      <th>2023-08-24</th>\n",
       "      <td>0.012630</td>\n",
       "    </tr>\n",
       "    <tr>\n",
       "      <th>2023-08-25</th>\n",
       "      <td>0.023769</td>\n",
       "    </tr>\n",
       "    <tr>\n",
       "      <th>2023-08-28</th>\n",
       "      <td>0.195333</td>\n",
       "    </tr>\n",
       "    <tr>\n",
       "      <th>2023-08-29</th>\n",
       "      <td>0.258807</td>\n",
       "    </tr>\n",
       "    <tr>\n",
       "      <th>2023-08-30</th>\n",
       "      <td>0.955082</td>\n",
       "    </tr>\n",
       "  </tbody>\n",
       "</table>\n",
       "<p>571 rows × 1 columns</p>\n",
       "</div>"
      ],
      "text/plain": [
       "            Sentiment Value\n",
       "Date                       \n",
       "2018-09-17         0.974873\n",
       "2018-09-18         0.786056\n",
       "2018-09-28         0.468201\n",
       "2018-10-24         0.289513\n",
       "2018-11-05         0.371126\n",
       "...                     ...\n",
       "2023-08-24         0.012630\n",
       "2023-08-25         0.023769\n",
       "2023-08-28         0.195333\n",
       "2023-08-29         0.258807\n",
       "2023-08-30         0.955082\n",
       "\n",
       "[571 rows x 1 columns]"
      ]
     },
     "execution_count": 13,
     "metadata": {},
     "output_type": "execute_result"
    }
   ],
   "source": [
    "df_news_RF"
   ]
  },
  {
   "cell_type": "code",
   "execution_count": 14,
   "id": "bb515557",
   "metadata": {
    "ExecuteTime": {
     "end_time": "2023-11-29T10:00:19.550959Z",
     "start_time": "2023-11-29T10:00:19.526032Z"
    }
   },
   "outputs": [
    {
     "data": {
      "text/html": [
       "<div>\n",
       "<style scoped>\n",
       "    .dataframe tbody tr th:only-of-type {\n",
       "        vertical-align: middle;\n",
       "    }\n",
       "\n",
       "    .dataframe tbody tr th {\n",
       "        vertical-align: top;\n",
       "    }\n",
       "\n",
       "    .dataframe thead th {\n",
       "        text-align: right;\n",
       "    }\n",
       "</style>\n",
       "<table border=\"1\" class=\"dataframe\">\n",
       "  <thead>\n",
       "    <tr style=\"text-align: right;\">\n",
       "      <th></th>\n",
       "      <th>Sentiment Value</th>\n",
       "    </tr>\n",
       "    <tr>\n",
       "      <th>Date</th>\n",
       "      <th></th>\n",
       "    </tr>\n",
       "  </thead>\n",
       "  <tbody>\n",
       "    <tr>\n",
       "      <th>2018-10-05</th>\n",
       "      <td>0.962679</td>\n",
       "    </tr>\n",
       "    <tr>\n",
       "      <th>2019-01-11</th>\n",
       "      <td>0.801190</td>\n",
       "    </tr>\n",
       "    <tr>\n",
       "      <th>2019-01-16</th>\n",
       "      <td>0.452439</td>\n",
       "    </tr>\n",
       "    <tr>\n",
       "      <th>2019-02-02</th>\n",
       "      <td>0.963229</td>\n",
       "    </tr>\n",
       "    <tr>\n",
       "      <th>2019-02-20</th>\n",
       "      <td>0.586033</td>\n",
       "    </tr>\n",
       "    <tr>\n",
       "      <th>...</th>\n",
       "      <td>...</td>\n",
       "    </tr>\n",
       "    <tr>\n",
       "      <th>2023-08-25</th>\n",
       "      <td>0.550040</td>\n",
       "    </tr>\n",
       "    <tr>\n",
       "      <th>2023-08-26</th>\n",
       "      <td>0.916423</td>\n",
       "    </tr>\n",
       "    <tr>\n",
       "      <th>2023-08-28</th>\n",
       "      <td>0.761335</td>\n",
       "    </tr>\n",
       "    <tr>\n",
       "      <th>2023-08-29</th>\n",
       "      <td>0.670520</td>\n",
       "    </tr>\n",
       "    <tr>\n",
       "      <th>2023-08-30</th>\n",
       "      <td>0.584654</td>\n",
       "    </tr>\n",
       "  </tbody>\n",
       "</table>\n",
       "<p>609 rows × 1 columns</p>\n",
       "</div>"
      ],
      "text/plain": [
       "            Sentiment Value\n",
       "Date                       \n",
       "2018-10-05         0.962679\n",
       "2019-01-11         0.801190\n",
       "2019-01-16         0.452439\n",
       "2019-02-02         0.963229\n",
       "2019-02-20         0.586033\n",
       "...                     ...\n",
       "2023-08-25         0.550040\n",
       "2023-08-26         0.916423\n",
       "2023-08-28         0.761335\n",
       "2023-08-29         0.670520\n",
       "2023-08-30         0.584654\n",
       "\n",
       "[609 rows x 1 columns]"
      ]
     },
     "execution_count": 14,
     "metadata": {},
     "output_type": "execute_result"
    }
   ],
   "source": [
    "df_news_CountryGarden"
   ]
  },
  {
   "cell_type": "markdown",
   "id": "6eedcabe",
   "metadata": {},
   "source": [
    "# 合并表格"
   ]
  },
  {
   "cell_type": "code",
   "execution_count": 15,
   "id": "60418b3b",
   "metadata": {
    "ExecuteTime": {
     "end_time": "2023-11-29T10:00:19.596831Z",
     "start_time": "2023-11-29T10:00:19.554944Z"
    }
   },
   "outputs": [],
   "source": [
    "df_RF_final = df_RF.join(df_news_RF, how='outer') \n",
    "df_RF_final = df_RF_final[df_RF_final['Credit Spread'].notna()]\n",
    "df_RF_final['Sentiment Value'] = df_RF_final['Sentiment Value'].fillna(0.5)\n",
    "nan_rows = df_RF_final[df_RF_final['Excess Spread'].isna()]\n",
    "df_RF_final = df_RF_final.dropna(subset=['Excess Spread'])\n",
    "df_RF_final.to_csv('df_RF_final.csv', index=True)"
   ]
  },
  {
   "cell_type": "code",
   "execution_count": 16,
   "id": "93bab62c",
   "metadata": {
    "ExecuteTime": {
     "end_time": "2023-11-29T10:00:19.643705Z",
     "start_time": "2023-11-29T10:00:19.598829Z"
    }
   },
   "outputs": [],
   "source": [
    "df_CountryGarden_final = df_CountryGarden.join(df_news_CountryGarden, how='outer') \n",
    "df_CountryGarden_final = df_CountryGarden_final[df_CountryGarden_final['Credit Spread'].notna()]\n",
    "df_CountryGarden_final['Sentiment Value'] = df_CountryGarden_final['Sentiment Value'].fillna(0.5)\n",
    "df_CountryGarden_final.to_csv('df_CountryGarden_final.csv', index=True)"
   ]
  },
  {
   "cell_type": "code",
   "execution_count": 17,
   "id": "5b769bf1",
   "metadata": {
    "ExecuteTime": {
     "end_time": "2023-11-29T10:00:19.690590Z",
     "start_time": "2023-11-29T10:00:19.647696Z"
    }
   },
   "outputs": [],
   "source": [
    "df_Evergrande_final = df_Evergrande.join(df_news_Evergrande, how='outer') \n",
    "df_Evergrande_final = df_Evergrande_final[df_Evergrande_final['Credit Spread'].notna()]\n",
    "df_Evergrande_final['Sentiment Value'] = df_Evergrande_final['Sentiment Value'].fillna(0.5)\n",
    "nan_rows = df_Evergrande_final[df_Evergrande_final['Excess Spread'].isna()]\n",
    "df_Evergrande_final = df_Evergrande_final.dropna(subset=['Excess Spread'])\n",
    "df_Evergrande_final.to_csv('df_Evergrande_final.csv', index=True)"
   ]
  },
  {
   "cell_type": "code",
   "execution_count": 18,
   "id": "721fb4bc",
   "metadata": {
    "ExecuteTime": {
     "end_time": "2023-11-29T10:00:19.735461Z",
     "start_time": "2023-11-29T10:00:19.694571Z"
    }
   },
   "outputs": [],
   "source": [
    "df_GiantLeap_final = df_GiantLeap.join(df_news_CountryGarden, how='outer') \n",
    "df_GiantLeap_final = df_GiantLeap_final[df_GiantLeap_final['Credit Spread'].notna()]\n",
    "df_GiantLeap_final['Sentiment Value'] = df_GiantLeap_final['Sentiment Value'].fillna(0.5)\n",
    "df_GiantLeap_final.to_csv('df_GiantLeap_final.csv', index=True)"
   ]
  },
  {
   "cell_type": "code",
   "execution_count": 19,
   "id": "d2fe4952",
   "metadata": {
    "ExecuteTime": {
     "end_time": "2023-11-29T10:00:19.767376Z",
     "start_time": "2023-11-29T10:00:19.737457Z"
    }
   },
   "outputs": [
    {
     "data": {
      "text/html": [
       "<div>\n",
       "<style scoped>\n",
       "    .dataframe tbody tr th:only-of-type {\n",
       "        vertical-align: middle;\n",
       "    }\n",
       "\n",
       "    .dataframe tbody tr th {\n",
       "        vertical-align: top;\n",
       "    }\n",
       "\n",
       "    .dataframe thead th {\n",
       "        text-align: right;\n",
       "    }\n",
       "</style>\n",
       "<table border=\"1\" class=\"dataframe\">\n",
       "  <thead>\n",
       "    <tr style=\"text-align: right;\">\n",
       "      <th></th>\n",
       "      <th>Credit Spread</th>\n",
       "      <th>Excess Spread</th>\n",
       "      <th>CFETS Valuation</th>\n",
       "      <th>Sentiment Value</th>\n",
       "    </tr>\n",
       "    <tr>\n",
       "      <th>Date</th>\n",
       "      <th></th>\n",
       "      <th></th>\n",
       "      <th></th>\n",
       "      <th></th>\n",
       "    </tr>\n",
       "  </thead>\n",
       "  <tbody>\n",
       "    <tr>\n",
       "      <th>2019-06-18</th>\n",
       "      <td>226.135</td>\n",
       "      <td>142.280</td>\n",
       "      <td>5.43405</td>\n",
       "      <td>0.500000</td>\n",
       "    </tr>\n",
       "    <tr>\n",
       "      <th>2019-06-19</th>\n",
       "      <td>229.885</td>\n",
       "      <td>142.345</td>\n",
       "      <td>5.45830</td>\n",
       "      <td>0.500000</td>\n",
       "    </tr>\n",
       "    <tr>\n",
       "      <th>2019-06-20</th>\n",
       "      <td>229.630</td>\n",
       "      <td>142.665</td>\n",
       "      <td>5.43050</td>\n",
       "      <td>0.500000</td>\n",
       "    </tr>\n",
       "    <tr>\n",
       "      <th>2019-06-21</th>\n",
       "      <td>230.595</td>\n",
       "      <td>144.110</td>\n",
       "      <td>5.43590</td>\n",
       "      <td>0.500000</td>\n",
       "    </tr>\n",
       "    <tr>\n",
       "      <th>2019-06-24</th>\n",
       "      <td>228.630</td>\n",
       "      <td>144.350</td>\n",
       "      <td>5.43180</td>\n",
       "      <td>0.500000</td>\n",
       "    </tr>\n",
       "    <tr>\n",
       "      <th>...</th>\n",
       "      <td>...</td>\n",
       "      <td>...</td>\n",
       "      <td>...</td>\n",
       "      <td>...</td>\n",
       "    </tr>\n",
       "    <tr>\n",
       "      <th>2023-08-24</th>\n",
       "      <td>163.845</td>\n",
       "      <td>99.790</td>\n",
       "      <td>3.89305</td>\n",
       "      <td>0.656786</td>\n",
       "    </tr>\n",
       "    <tr>\n",
       "      <th>2023-08-25</th>\n",
       "      <td>162.460</td>\n",
       "      <td>99.520</td>\n",
       "      <td>3.89900</td>\n",
       "      <td>0.550040</td>\n",
       "    </tr>\n",
       "    <tr>\n",
       "      <th>2023-08-28</th>\n",
       "      <td>160.920</td>\n",
       "      <td>99.340</td>\n",
       "      <td>3.90300</td>\n",
       "      <td>0.761335</td>\n",
       "    </tr>\n",
       "    <tr>\n",
       "      <th>2023-08-29</th>\n",
       "      <td>161.945</td>\n",
       "      <td>99.480</td>\n",
       "      <td>3.93305</td>\n",
       "      <td>0.670520</td>\n",
       "    </tr>\n",
       "    <tr>\n",
       "      <th>2023-08-30</th>\n",
       "      <td>163.295</td>\n",
       "      <td>99.250</td>\n",
       "      <td>3.91830</td>\n",
       "      <td>0.584654</td>\n",
       "    </tr>\n",
       "  </tbody>\n",
       "</table>\n",
       "<p>1051 rows × 4 columns</p>\n",
       "</div>"
      ],
      "text/plain": [
       "            Credit Spread  Excess Spread  CFETS Valuation  Sentiment Value\n",
       "Date                                                                      \n",
       "2019-06-18        226.135        142.280          5.43405         0.500000\n",
       "2019-06-19        229.885        142.345          5.45830         0.500000\n",
       "2019-06-20        229.630        142.665          5.43050         0.500000\n",
       "2019-06-21        230.595        144.110          5.43590         0.500000\n",
       "2019-06-24        228.630        144.350          5.43180         0.500000\n",
       "...                   ...            ...              ...              ...\n",
       "2023-08-24        163.845         99.790          3.89305         0.656786\n",
       "2023-08-25        162.460         99.520          3.89900         0.550040\n",
       "2023-08-28        160.920         99.340          3.90300         0.761335\n",
       "2023-08-29        161.945         99.480          3.93305         0.670520\n",
       "2023-08-30        163.295         99.250          3.91830         0.584654\n",
       "\n",
       "[1051 rows x 4 columns]"
      ]
     },
     "execution_count": 19,
     "metadata": {},
     "output_type": "execute_result"
    }
   ],
   "source": [
    "df_CountryGarden_final\n"
   ]
  },
  {
   "cell_type": "code",
   "execution_count": 20,
   "id": "653e88d5",
   "metadata": {
    "ExecuteTime": {
     "end_time": "2023-11-29T10:00:19.799290Z",
     "start_time": "2023-11-29T10:00:19.770368Z"
    }
   },
   "outputs": [
    {
     "data": {
      "text/html": [
       "<div>\n",
       "<style scoped>\n",
       "    .dataframe tbody tr th:only-of-type {\n",
       "        vertical-align: middle;\n",
       "    }\n",
       "\n",
       "    .dataframe tbody tr th {\n",
       "        vertical-align: top;\n",
       "    }\n",
       "\n",
       "    .dataframe thead th {\n",
       "        text-align: right;\n",
       "    }\n",
       "</style>\n",
       "<table border=\"1\" class=\"dataframe\">\n",
       "  <thead>\n",
       "    <tr style=\"text-align: right;\">\n",
       "      <th></th>\n",
       "      <th>Credit Spread</th>\n",
       "      <th>Excess Spread</th>\n",
       "      <th>CFETS Valuation</th>\n",
       "      <th>Sentiment Value</th>\n",
       "    </tr>\n",
       "    <tr>\n",
       "      <th>Date</th>\n",
       "      <th></th>\n",
       "      <th></th>\n",
       "      <th></th>\n",
       "      <th></th>\n",
       "    </tr>\n",
       "  </thead>\n",
       "  <tbody>\n",
       "    <tr>\n",
       "      <th>2019-06-18</th>\n",
       "      <td>252.94</td>\n",
       "      <td>166.485</td>\n",
       "      <td>5.5870</td>\n",
       "      <td>0.500000</td>\n",
       "    </tr>\n",
       "    <tr>\n",
       "      <th>2019-06-19</th>\n",
       "      <td>255.36</td>\n",
       "      <td>166.890</td>\n",
       "      <td>5.4991</td>\n",
       "      <td>0.500000</td>\n",
       "    </tr>\n",
       "    <tr>\n",
       "      <th>2019-06-20</th>\n",
       "      <td>259.85</td>\n",
       "      <td>169.600</td>\n",
       "      <td>5.5165</td>\n",
       "      <td>0.500000</td>\n",
       "    </tr>\n",
       "    <tr>\n",
       "      <th>2019-06-21</th>\n",
       "      <td>254.37</td>\n",
       "      <td>165.320</td>\n",
       "      <td>5.4468</td>\n",
       "      <td>0.500000</td>\n",
       "    </tr>\n",
       "    <tr>\n",
       "      <th>2019-06-24</th>\n",
       "      <td>252.45</td>\n",
       "      <td>165.510</td>\n",
       "      <td>5.4397</td>\n",
       "      <td>0.500000</td>\n",
       "    </tr>\n",
       "    <tr>\n",
       "      <th>...</th>\n",
       "      <td>...</td>\n",
       "      <td>...</td>\n",
       "      <td>...</td>\n",
       "      <td>...</td>\n",
       "    </tr>\n",
       "    <tr>\n",
       "      <th>2023-04-17</th>\n",
       "      <td>2012.42</td>\n",
       "      <td>1251.660</td>\n",
       "      <td>22.3996</td>\n",
       "      <td>0.525010</td>\n",
       "    </tr>\n",
       "    <tr>\n",
       "      <th>2023-04-18</th>\n",
       "      <td>2013.79</td>\n",
       "      <td>1250.980</td>\n",
       "      <td>22.4021</td>\n",
       "      <td>0.999738</td>\n",
       "    </tr>\n",
       "    <tr>\n",
       "      <th>2023-04-19</th>\n",
       "      <td>2012.29</td>\n",
       "      <td>1250.400</td>\n",
       "      <td>22.3856</td>\n",
       "      <td>0.711661</td>\n",
       "    </tr>\n",
       "    <tr>\n",
       "      <th>2023-04-20</th>\n",
       "      <td>2013.05</td>\n",
       "      <td>1252.100</td>\n",
       "      <td>22.3921</td>\n",
       "      <td>0.819668</td>\n",
       "    </tr>\n",
       "    <tr>\n",
       "      <th>2023-04-21</th>\n",
       "      <td>2010.91</td>\n",
       "      <td>1251.910</td>\n",
       "      <td>22.3797</td>\n",
       "      <td>0.996471</td>\n",
       "    </tr>\n",
       "  </tbody>\n",
       "</table>\n",
       "<p>960 rows × 4 columns</p>\n",
       "</div>"
      ],
      "text/plain": [
       "            Credit Spread  Excess Spread  CFETS Valuation  Sentiment Value\n",
       "Date                                                                      \n",
       "2019-06-18         252.94        166.485           5.5870         0.500000\n",
       "2019-06-19         255.36        166.890           5.4991         0.500000\n",
       "2019-06-20         259.85        169.600           5.5165         0.500000\n",
       "2019-06-21         254.37        165.320           5.4468         0.500000\n",
       "2019-06-24         252.45        165.510           5.4397         0.500000\n",
       "...                   ...            ...              ...              ...\n",
       "2023-04-17        2012.42       1251.660          22.3996         0.525010\n",
       "2023-04-18        2013.79       1250.980          22.4021         0.999738\n",
       "2023-04-19        2012.29       1250.400          22.3856         0.711661\n",
       "2023-04-20        2013.05       1252.100          22.3921         0.819668\n",
       "2023-04-21        2010.91       1251.910          22.3797         0.996471\n",
       "\n",
       "[960 rows x 4 columns]"
      ]
     },
     "execution_count": 20,
     "metadata": {},
     "output_type": "execute_result"
    }
   ],
   "source": [
    "df_GiantLeap_final\n"
   ]
  },
  {
   "cell_type": "code",
   "execution_count": 21,
   "id": "58268f4f",
   "metadata": {
    "ExecuteTime": {
     "end_time": "2023-11-29T10:00:19.831206Z",
     "start_time": "2023-11-29T10:00:19.802281Z"
    }
   },
   "outputs": [
    {
     "data": {
      "text/html": [
       "<div>\n",
       "<style scoped>\n",
       "    .dataframe tbody tr th:only-of-type {\n",
       "        vertical-align: middle;\n",
       "    }\n",
       "\n",
       "    .dataframe tbody tr th {\n",
       "        vertical-align: top;\n",
       "    }\n",
       "\n",
       "    .dataframe thead th {\n",
       "        text-align: right;\n",
       "    }\n",
       "</style>\n",
       "<table border=\"1\" class=\"dataframe\">\n",
       "  <thead>\n",
       "    <tr style=\"text-align: right;\">\n",
       "      <th></th>\n",
       "      <th>Credit Spread</th>\n",
       "      <th>Excess Spread</th>\n",
       "      <th>CFETS Valuation</th>\n",
       "      <th>Sentiment Value</th>\n",
       "    </tr>\n",
       "    <tr>\n",
       "      <th>Date</th>\n",
       "      <th></th>\n",
       "      <th></th>\n",
       "      <th></th>\n",
       "      <th></th>\n",
       "    </tr>\n",
       "  </thead>\n",
       "  <tbody>\n",
       "    <tr>\n",
       "      <th>2019-06-18</th>\n",
       "      <td>278.930</td>\n",
       "      <td>179.735</td>\n",
       "      <td>6.12475</td>\n",
       "      <td>0.500000</td>\n",
       "    </tr>\n",
       "    <tr>\n",
       "      <th>2019-06-19</th>\n",
       "      <td>274.270</td>\n",
       "      <td>173.780</td>\n",
       "      <td>5.99855</td>\n",
       "      <td>0.500000</td>\n",
       "    </tr>\n",
       "    <tr>\n",
       "      <th>2019-06-20</th>\n",
       "      <td>275.110</td>\n",
       "      <td>173.095</td>\n",
       "      <td>5.96650</td>\n",
       "      <td>0.225833</td>\n",
       "    </tr>\n",
       "    <tr>\n",
       "      <th>2019-06-21</th>\n",
       "      <td>274.775</td>\n",
       "      <td>174.000</td>\n",
       "      <td>5.97785</td>\n",
       "      <td>0.270513</td>\n",
       "    </tr>\n",
       "    <tr>\n",
       "      <th>2019-06-24</th>\n",
       "      <td>272.570</td>\n",
       "      <td>174.600</td>\n",
       "      <td>5.97385</td>\n",
       "      <td>0.500000</td>\n",
       "    </tr>\n",
       "    <tr>\n",
       "      <th>...</th>\n",
       "      <td>...</td>\n",
       "      <td>...</td>\n",
       "      <td>...</td>\n",
       "      <td>...</td>\n",
       "    </tr>\n",
       "    <tr>\n",
       "      <th>2021-07-12</th>\n",
       "      <td>2663.130</td>\n",
       "      <td>1719.130</td>\n",
       "      <td>29.18330</td>\n",
       "      <td>0.500000</td>\n",
       "    </tr>\n",
       "    <tr>\n",
       "      <th>2021-07-13</th>\n",
       "      <td>2694.600</td>\n",
       "      <td>1752.190</td>\n",
       "      <td>29.48310</td>\n",
       "      <td>0.982656</td>\n",
       "    </tr>\n",
       "    <tr>\n",
       "      <th>2021-07-14</th>\n",
       "      <td>3034.400</td>\n",
       "      <td>2092.190</td>\n",
       "      <td>32.85240</td>\n",
       "      <td>0.500000</td>\n",
       "    </tr>\n",
       "    <tr>\n",
       "      <th>2021-07-15</th>\n",
       "      <td>3122.560</td>\n",
       "      <td>2183.160</td>\n",
       "      <td>33.75310</td>\n",
       "      <td>0.500000</td>\n",
       "    </tr>\n",
       "    <tr>\n",
       "      <th>2021-07-16</th>\n",
       "      <td>3288.200</td>\n",
       "      <td>2346.980</td>\n",
       "      <td>35.39260</td>\n",
       "      <td>0.500000</td>\n",
       "    </tr>\n",
       "  </tbody>\n",
       "</table>\n",
       "<p>520 rows × 4 columns</p>\n",
       "</div>"
      ],
      "text/plain": [
       "            Credit Spread  Excess Spread  CFETS Valuation  Sentiment Value\n",
       "Date                                                                      \n",
       "2019-06-18        278.930        179.735          6.12475         0.500000\n",
       "2019-06-19        274.270        173.780          5.99855         0.500000\n",
       "2019-06-20        275.110        173.095          5.96650         0.225833\n",
       "2019-06-21        274.775        174.000          5.97785         0.270513\n",
       "2019-06-24        272.570        174.600          5.97385         0.500000\n",
       "...                   ...            ...              ...              ...\n",
       "2021-07-12       2663.130       1719.130         29.18330         0.500000\n",
       "2021-07-13       2694.600       1752.190         29.48310         0.982656\n",
       "2021-07-14       3034.400       2092.190         32.85240         0.500000\n",
       "2021-07-15       3122.560       2183.160         33.75310         0.500000\n",
       "2021-07-16       3288.200       2346.980         35.39260         0.500000\n",
       "\n",
       "[520 rows x 4 columns]"
      ]
     },
     "execution_count": 21,
     "metadata": {},
     "output_type": "execute_result"
    }
   ],
   "source": [
    "df_Evergrande_final\n"
   ]
  },
  {
   "cell_type": "code",
   "execution_count": 22,
   "id": "11fa74a4",
   "metadata": {
    "ExecuteTime": {
     "end_time": "2023-11-29T10:00:19.863121Z",
     "start_time": "2023-11-29T10:00:19.839184Z"
    }
   },
   "outputs": [
    {
     "data": {
      "text/html": [
       "<div>\n",
       "<style scoped>\n",
       "    .dataframe tbody tr th:only-of-type {\n",
       "        vertical-align: middle;\n",
       "    }\n",
       "\n",
       "    .dataframe tbody tr th {\n",
       "        vertical-align: top;\n",
       "    }\n",
       "\n",
       "    .dataframe thead th {\n",
       "        text-align: right;\n",
       "    }\n",
       "</style>\n",
       "<table border=\"1\" class=\"dataframe\">\n",
       "  <thead>\n",
       "    <tr style=\"text-align: right;\">\n",
       "      <th></th>\n",
       "      <th>Credit Spread</th>\n",
       "      <th>Excess Spread</th>\n",
       "      <th>CFETS Valuation</th>\n",
       "      <th>Sentiment Value</th>\n",
       "    </tr>\n",
       "    <tr>\n",
       "      <th>Date</th>\n",
       "      <th></th>\n",
       "      <th></th>\n",
       "      <th></th>\n",
       "      <th></th>\n",
       "    </tr>\n",
       "  </thead>\n",
       "  <tbody>\n",
       "    <tr>\n",
       "      <th>2019-06-18</th>\n",
       "      <td>214.360</td>\n",
       "      <td>126.230</td>\n",
       "      <td>5.27300</td>\n",
       "      <td>0.500000</td>\n",
       "    </tr>\n",
       "    <tr>\n",
       "      <th>2019-06-19</th>\n",
       "      <td>216.375</td>\n",
       "      <td>126.760</td>\n",
       "      <td>5.29695</td>\n",
       "      <td>0.500000</td>\n",
       "    </tr>\n",
       "    <tr>\n",
       "      <th>2019-06-20</th>\n",
       "      <td>218.975</td>\n",
       "      <td>128.990</td>\n",
       "      <td>5.26535</td>\n",
       "      <td>0.786904</td>\n",
       "    </tr>\n",
       "    <tr>\n",
       "      <th>2019-06-21</th>\n",
       "      <td>216.930</td>\n",
       "      <td>128.095</td>\n",
       "      <td>5.27720</td>\n",
       "      <td>0.991536</td>\n",
       "    </tr>\n",
       "    <tr>\n",
       "      <th>2019-06-24</th>\n",
       "      <td>215.075</td>\n",
       "      <td>128.400</td>\n",
       "      <td>5.27335</td>\n",
       "      <td>0.500000</td>\n",
       "    </tr>\n",
       "    <tr>\n",
       "      <th>...</th>\n",
       "      <td>...</td>\n",
       "      <td>...</td>\n",
       "      <td>...</td>\n",
       "      <td>...</td>\n",
       "    </tr>\n",
       "    <tr>\n",
       "      <th>2021-12-08</th>\n",
       "      <td>7981.660</td>\n",
       "      <td>7019.750</td>\n",
       "      <td>82.20530</td>\n",
       "      <td>0.402639</td>\n",
       "    </tr>\n",
       "    <tr>\n",
       "      <th>2021-12-09</th>\n",
       "      <td>7980.770</td>\n",
       "      <td>7018.770</td>\n",
       "      <td>82.20550</td>\n",
       "      <td>0.197239</td>\n",
       "    </tr>\n",
       "    <tr>\n",
       "      <th>2021-12-10</th>\n",
       "      <td>8686.290</td>\n",
       "      <td>7724.490</td>\n",
       "      <td>89.24160</td>\n",
       "      <td>0.500000</td>\n",
       "    </tr>\n",
       "    <tr>\n",
       "      <th>2021-12-13</th>\n",
       "      <td>8459.130</td>\n",
       "      <td>7501.130</td>\n",
       "      <td>86.99730</td>\n",
       "      <td>0.265570</td>\n",
       "    </tr>\n",
       "    <tr>\n",
       "      <th>2021-12-14</th>\n",
       "      <td>8459.180</td>\n",
       "      <td>7501.180</td>\n",
       "      <td>86.99740</td>\n",
       "      <td>0.009697</td>\n",
       "    </tr>\n",
       "  </tbody>\n",
       "</table>\n",
       "<p>623 rows × 4 columns</p>\n",
       "</div>"
      ],
      "text/plain": [
       "            Credit Spread  Excess Spread  CFETS Valuation  Sentiment Value\n",
       "Date                                                                      \n",
       "2019-06-18        214.360        126.230          5.27300         0.500000\n",
       "2019-06-19        216.375        126.760          5.29695         0.500000\n",
       "2019-06-20        218.975        128.990          5.26535         0.786904\n",
       "2019-06-21        216.930        128.095          5.27720         0.991536\n",
       "2019-06-24        215.075        128.400          5.27335         0.500000\n",
       "...                   ...            ...              ...              ...\n",
       "2021-12-08       7981.660       7019.750         82.20530         0.402639\n",
       "2021-12-09       7980.770       7018.770         82.20550         0.197239\n",
       "2021-12-10       8686.290       7724.490         89.24160         0.500000\n",
       "2021-12-13       8459.130       7501.130         86.99730         0.265570\n",
       "2021-12-14       8459.180       7501.180         86.99740         0.009697\n",
       "\n",
       "[623 rows x 4 columns]"
      ]
     },
     "execution_count": 22,
     "metadata": {},
     "output_type": "execute_result"
    }
   ],
   "source": [
    "df_RF_final\n"
   ]
  },
  {
   "cell_type": "code",
   "execution_count": null,
   "id": "9a35a079",
   "metadata": {},
   "outputs": [],
   "source": []
  },
  {
   "cell_type": "code",
   "execution_count": null,
   "id": "0f8b386c",
   "metadata": {},
   "outputs": [],
   "source": []
  }
 ],
 "metadata": {
  "hide_input": false,
  "kernelspec": {
   "display_name": "Python 3",
   "language": "python",
   "name": "python3"
  },
  "language_info": {
   "codemirror_mode": {
    "name": "ipython",
    "version": 3
   },
   "file_extension": ".py",
   "mimetype": "text/x-python",
   "name": "python",
   "nbconvert_exporter": "python",
   "pygments_lexer": "ipython3",
   "version": "3.8.8"
  },
  "toc": {
   "base_numbering": 1,
   "nav_menu": {},
   "number_sections": true,
   "sideBar": true,
   "skip_h1_title": false,
   "title_cell": "Table of Contents",
   "title_sidebar": "Contents",
   "toc_cell": false,
   "toc_position": {},
   "toc_section_display": true,
   "toc_window_display": true
  },
  "varInspector": {
   "cols": {
    "lenName": 16,
    "lenType": 16,
    "lenVar": 40
   },
   "kernels_config": {
    "python": {
     "delete_cmd_postfix": "",
     "delete_cmd_prefix": "del ",
     "library": "var_list.py",
     "varRefreshCmd": "print(var_dic_list())"
    },
    "r": {
     "delete_cmd_postfix": ") ",
     "delete_cmd_prefix": "rm(",
     "library": "var_list.r",
     "varRefreshCmd": "cat(var_dic_list()) "
    }
   },
   "types_to_exclude": [
    "module",
    "function",
    "builtin_function_or_method",
    "instance",
    "_Feature"
   ],
   "window_display": false
  }
 },
 "nbformat": 4,
 "nbformat_minor": 5
}
